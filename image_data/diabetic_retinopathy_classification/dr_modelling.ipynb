{
  "cells": [
    {
      "attachments": {},
      "cell_type": "markdown",
      "metadata": {},
      "source": [
        "# Download the Dataset"
      ]
    },
    {
      "cell_type": "code",
      "execution_count": null,
      "metadata": {
        "colab": {
          "base_uri": "https://localhost:8080/",
          "height": 73
        },
        "id": "g5Fih4snyOAz",
        "outputId": "161583fd-e6c0-4336-d490-3c58452178da"
      },
      "outputs": [
        {
          "data": {
            "text/html": [
              "\n",
              "     <input type=\"file\" id=\"files-79ed8b3a-8aa4-4bf3-b480-b9924cb866a5\" name=\"files[]\" multiple disabled\n",
              "        style=\"border:none\" />\n",
              "     <output id=\"result-79ed8b3a-8aa4-4bf3-b480-b9924cb866a5\">\n",
              "      Upload widget is only available when the cell has been executed in the\n",
              "      current browser session. Please rerun this cell to enable.\n",
              "      </output>\n",
              "      <script>// Copyright 2017 Google LLC\n",
              "//\n",
              "// Licensed under the Apache License, Version 2.0 (the \"License\");\n",
              "// you may not use this file except in compliance with the License.\n",
              "// You may obtain a copy of the License at\n",
              "//\n",
              "//      http://www.apache.org/licenses/LICENSE-2.0\n",
              "//\n",
              "// Unless required by applicable law or agreed to in writing, software\n",
              "// distributed under the License is distributed on an \"AS IS\" BASIS,\n",
              "// WITHOUT WARRANTIES OR CONDITIONS OF ANY KIND, either express or implied.\n",
              "// See the License for the specific language governing permissions and\n",
              "// limitations under the License.\n",
              "\n",
              "/**\n",
              " * @fileoverview Helpers for google.colab Python module.\n",
              " */\n",
              "(function(scope) {\n",
              "function span(text, styleAttributes = {}) {\n",
              "  const element = document.createElement('span');\n",
              "  element.textContent = text;\n",
              "  for (const key of Object.keys(styleAttributes)) {\n",
              "    element.style[key] = styleAttributes[key];\n",
              "  }\n",
              "  return element;\n",
              "}\n",
              "\n",
              "// Max number of bytes which will be uploaded at a time.\n",
              "const MAX_PAYLOAD_SIZE = 100 * 1024;\n",
              "\n",
              "function _uploadFiles(inputId, outputId) {\n",
              "  const steps = uploadFilesStep(inputId, outputId);\n",
              "  const outputElement = document.getElementById(outputId);\n",
              "  // Cache steps on the outputElement to make it available for the next call\n",
              "  // to uploadFilesContinue from Python.\n",
              "  outputElement.steps = steps;\n",
              "\n",
              "  return _uploadFilesContinue(outputId);\n",
              "}\n",
              "\n",
              "// This is roughly an async generator (not supported in the browser yet),\n",
              "// where there are multiple asynchronous steps and the Python side is going\n",
              "// to poll for completion of each step.\n",
              "// This uses a Promise to block the python side on completion of each step,\n",
              "// then passes the result of the previous step as the input to the next step.\n",
              "function _uploadFilesContinue(outputId) {\n",
              "  const outputElement = document.getElementById(outputId);\n",
              "  const steps = outputElement.steps;\n",
              "\n",
              "  const next = steps.next(outputElement.lastPromiseValue);\n",
              "  return Promise.resolve(next.value.promise).then((value) => {\n",
              "    // Cache the last promise value to make it available to the next\n",
              "    // step of the generator.\n",
              "    outputElement.lastPromiseValue = value;\n",
              "    return next.value.response;\n",
              "  });\n",
              "}\n",
              "\n",
              "/**\n",
              " * Generator function which is called between each async step of the upload\n",
              " * process.\n",
              " * @param {string} inputId Element ID of the input file picker element.\n",
              " * @param {string} outputId Element ID of the output display.\n",
              " * @return {!Iterable<!Object>} Iterable of next steps.\n",
              " */\n",
              "function* uploadFilesStep(inputId, outputId) {\n",
              "  const inputElement = document.getElementById(inputId);\n",
              "  inputElement.disabled = false;\n",
              "\n",
              "  const outputElement = document.getElementById(outputId);\n",
              "  outputElement.innerHTML = '';\n",
              "\n",
              "  const pickedPromise = new Promise((resolve) => {\n",
              "    inputElement.addEventListener('change', (e) => {\n",
              "      resolve(e.target.files);\n",
              "    });\n",
              "  });\n",
              "\n",
              "  const cancel = document.createElement('button');\n",
              "  inputElement.parentElement.appendChild(cancel);\n",
              "  cancel.textContent = 'Cancel upload';\n",
              "  const cancelPromise = new Promise((resolve) => {\n",
              "    cancel.onclick = () => {\n",
              "      resolve(null);\n",
              "    };\n",
              "  });\n",
              "\n",
              "  // Wait for the user to pick the files.\n",
              "  const files = yield {\n",
              "    promise: Promise.race([pickedPromise, cancelPromise]),\n",
              "    response: {\n",
              "      action: 'starting',\n",
              "    }\n",
              "  };\n",
              "\n",
              "  cancel.remove();\n",
              "\n",
              "  // Disable the input element since further picks are not allowed.\n",
              "  inputElement.disabled = true;\n",
              "\n",
              "  if (!files) {\n",
              "    return {\n",
              "      response: {\n",
              "        action: 'complete',\n",
              "      }\n",
              "    };\n",
              "  }\n",
              "\n",
              "  for (const file of files) {\n",
              "    const li = document.createElement('li');\n",
              "    li.append(span(file.name, {fontWeight: 'bold'}));\n",
              "    li.append(span(\n",
              "        `(${file.type || 'n/a'}) - ${file.size} bytes, ` +\n",
              "        `last modified: ${\n",
              "            file.lastModifiedDate ? file.lastModifiedDate.toLocaleDateString() :\n",
              "                                    'n/a'} - `));\n",
              "    const percent = span('0% done');\n",
              "    li.appendChild(percent);\n",
              "\n",
              "    outputElement.appendChild(li);\n",
              "\n",
              "    const fileDataPromise = new Promise((resolve) => {\n",
              "      const reader = new FileReader();\n",
              "      reader.onload = (e) => {\n",
              "        resolve(e.target.result);\n",
              "      };\n",
              "      reader.readAsArrayBuffer(file);\n",
              "    });\n",
              "    // Wait for the data to be ready.\n",
              "    let fileData = yield {\n",
              "      promise: fileDataPromise,\n",
              "      response: {\n",
              "        action: 'continue',\n",
              "      }\n",
              "    };\n",
              "\n",
              "    // Use a chunked sending to avoid message size limits. See b/62115660.\n",
              "    let position = 0;\n",
              "    do {\n",
              "      const length = Math.min(fileData.byteLength - position, MAX_PAYLOAD_SIZE);\n",
              "      const chunk = new Uint8Array(fileData, position, length);\n",
              "      position += length;\n",
              "\n",
              "      const base64 = btoa(String.fromCharCode.apply(null, chunk));\n",
              "      yield {\n",
              "        response: {\n",
              "          action: 'append',\n",
              "          file: file.name,\n",
              "          data: base64,\n",
              "        },\n",
              "      };\n",
              "\n",
              "      let percentDone = fileData.byteLength === 0 ?\n",
              "          100 :\n",
              "          Math.round((position / fileData.byteLength) * 100);\n",
              "      percent.textContent = `${percentDone}% done`;\n",
              "\n",
              "    } while (position < fileData.byteLength);\n",
              "  }\n",
              "\n",
              "  // All done.\n",
              "  yield {\n",
              "    response: {\n",
              "      action: 'complete',\n",
              "    }\n",
              "  };\n",
              "}\n",
              "\n",
              "scope.google = scope.google || {};\n",
              "scope.google.colab = scope.google.colab || {};\n",
              "scope.google.colab._files = {\n",
              "  _uploadFiles,\n",
              "  _uploadFilesContinue,\n",
              "};\n",
              "})(self);\n",
              "</script> "
            ],
            "text/plain": [
              "<IPython.core.display.HTML object>"
            ]
          },
          "metadata": {},
          "output_type": "display_data"
        },
        {
          "name": "stdout",
          "output_type": "stream",
          "text": [
            "Saving kaggle.json to kaggle.json\n"
          ]
        }
      ],
      "source": [
        "from google.colab import files\n",
        "\n",
        "! pip install -q kaggle\n",
        "files.upload()\n",
        "! mkdir ~/.kaggle\n",
        "! cp kaggle.json ~/.kaggle/\n",
        "! chmod 600 ~/.kaggle/kaggle.json"
      ]
    },
    {
      "cell_type": "code",
      "execution_count": null,
      "metadata": {
        "colab": {
          "base_uri": "https://localhost:8080/"
        },
        "id": "IAnuanzfyTtv",
        "outputId": "c362ce00-84e2-4245-e6ab-86e799bc6447"
      },
      "outputs": [
        {
          "name": "stdout",
          "output_type": "stream",
          "text": [
            "Downloading diabetic-retinopathy-resized-arranged.zip to ./data\n",
            "100% 1.20G/1.21G [00:37<00:00, 42.3MB/s]\n",
            "100% 1.21G/1.21G [00:37<00:00, 34.2MB/s]\n"
          ]
        }
      ],
      "source": [
        "! kaggle datasets download -d amanneo/diabetic-retinopathy-resized-arranged -p ./data/ --unzip\n"
      ]
    },
    {
      "cell_type": "code",
      "execution_count": null,
      "metadata": {
        "id": "T1AEl5sIyYmx"
      },
      "outputs": [],
      "source": [
        "data_dir = './data'"
      ]
    },
    {
      "attachments": {},
      "cell_type": "markdown",
      "metadata": {},
      "source": [
        "# Create Image Data Generator to Augment the Image Data"
      ]
    },
    {
      "cell_type": "code",
      "execution_count": null,
      "metadata": {
        "id": "idTGYWj2zmPa"
      },
      "outputs": [],
      "source": [
        "import tensorflow\n",
        "from tensorflow.keras.preprocessing.image import ImageDataGenerator\n",
        "\n",
        "image_datagen = ImageDataGenerator(\n",
        "    rescale=1./255,\n",
        "    zoom_range=0.1,\n",
        "    rotation_range=15,\n",
        "    validation_split=0.2\n",
        ")"
      ]
    },
    {
      "cell_type": "code",
      "execution_count": null,
      "metadata": {
        "id": "hC5D9mAT0RSY"
      },
      "outputs": [],
      "source": [
        "def make_train_val_generator(image_datagen, data_dir, img_shape, batch_size=32):\n",
        "  train_generator = image_datagen.flow_from_directory(\n",
        "      data_dir,\n",
        "      target_size= img_shape,\n",
        "      batch_size= batch_size,\n",
        "      seed= 123,\n",
        "      subset= 'training',\n",
        "      class_mode= 'categorical')\n",
        "\n",
        "  val_generator = image_datagen.flow_from_directory(\n",
        "      data_dir,\n",
        "      target_size= img_shape,\n",
        "      batch_size= batch_size, \n",
        "      seed= 123,\n",
        "      subset= 'validation',\n",
        "      class_mode= 'categorical')\n",
        "  \n",
        "  return train_generator, val_generator"
      ]
    },
    {
      "attachments": {},
      "cell_type": "markdown",
      "metadata": {},
      "source": [
        "# Create Model "
      ]
    },
    {
      "cell_type": "code",
      "execution_count": null,
      "metadata": {
        "id": "bibX00if3fr4"
      },
      "outputs": [],
      "source": [
        "from tensorflow.keras.applications.vgg16 import VGG16  \n",
        "from tensorflow.keras.applications.xception import Xception\n",
        "from tensorflow.keras.applications.densenet import DenseNet201  \n",
        "from tensorflow.keras.applications.mobilenet_v2 import MobileNetV2\n",
        "\n",
        "from tensorflow.keras.models import Sequential\n",
        "from tensorflow.keras.layers import Dense, Dropout, Flatten, GlobalAveragePooling2D\n",
        "\n",
        "def create_model(transfer_model, img_shape):\n",
        "    if (transfer_model == \"DenseNet201\"):\n",
        "      base_model = DenseNet201(include_top= False, weights= \"imagenet\", input_shape= img_shape)\n",
        "    elif (transfer_model == \"Xception\"):\n",
        "      base_model = Xception(include_top= False, weights= \"imagenet\", input_shape= img_shape)\n",
        "    elif (transfer_model == \"MobileNetV2\"):\n",
        "      base_model = MobileNetV2(include_top= False, weights= \"imagenet\", input_shape= img_shape)\n",
        "    else:\n",
        "      base_model = VGG16(include_top= False, weights= \"imagenet\", input_shape= img_shape)\n",
        "    \n",
        "    base_model.trainable = False\n",
        "    \n",
        "    model = Sequential([\n",
        "      base_model,\n",
        "      GlobalAveragePooling2D(),\n",
        "      Dropout(0.4),\n",
        "      Dense(128, activation= 'relu'),\n",
        "      Dense(5, activation= 'softmax')\n",
        "    ])\n",
        "\n",
        "    return model"
      ]
    },
    {
      "cell_type": "code",
      "execution_count": null,
      "metadata": {
        "colab": {
          "base_uri": "https://localhost:8080/"
        },
        "id": "WQMzRnA-34SI",
        "outputId": "67dd8542-98f7-4815-8973-e8d3c3df0b47"
      },
      "outputs": [
        {
          "name": "stdout",
          "output_type": "stream",
          "text": [
            "Found 28103 images belonging to 5 classes.\n",
            "Found 7023 images belonging to 5 classes.\n"
          ]
        }
      ],
      "source": [
        "train_generator, val_generator = make_train_val_generator(image_datagen, data_dir, (224, 224), batch_size=128)"
      ]
    },
    {
      "cell_type": "code",
      "execution_count": null,
      "metadata": {
        "colab": {
          "base_uri": "https://localhost:8080/"
        },
        "id": "BMJeaGLV5Tl1",
        "outputId": "8b867037-78d8-4e38-c4c2-dcf929797491"
      },
      "outputs": [
        {
          "data": {
            "text/plain": [
              "<keras.preprocessing.image.DirectoryIterator at 0x7f204714a680>"
            ]
          },
          "execution_count": 8,
          "metadata": {},
          "output_type": "execute_result"
        }
      ],
      "source": [
        "train_generator\n"
      ]
    },
    {
      "cell_type": "code",
      "execution_count": null,
      "metadata": {
        "colab": {
          "base_uri": "https://localhost:8080/"
        },
        "id": "XXy1vpNe4KJS",
        "outputId": "340ba662-515f-474b-a3cb-ad6d4baa9174"
      },
      "outputs": [
        {
          "name": "stdout",
          "output_type": "stream",
          "text": [
            "Downloading data from https://storage.googleapis.com/tensorflow/keras-applications/mobilenet_v2/mobilenet_v2_weights_tf_dim_ordering_tf_kernels_1.0_224_no_top.h5\n",
            "9406464/9406464 [==============================] - 1s 0us/step\n"
          ]
        }
      ],
      "source": [
        "mobilenet_model = create_model('MobileNetV2', (224, 224, 3))"
      ]
    },
    {
      "cell_type": "code",
      "execution_count": null,
      "metadata": {
        "id": "n_Upw71b4S22"
      },
      "outputs": [],
      "source": [
        "mobilenet_model.compile(optimizer=\"adam\", loss= 'categorical_crossentropy', metrics= ['accuracy'])\n"
      ]
    },
    {
      "cell_type": "code",
      "execution_count": null,
      "metadata": {
        "colab": {
          "base_uri": "https://localhost:8080/"
        },
        "id": "LLL_GIPT4Xo4",
        "outputId": "71c1140f-d052-4833-b74c-a325f72a54f9"
      },
      "outputs": [
        {
          "name": "stdout",
          "output_type": "stream",
          "text": [
            "Model: \"sequential\"\n",
            "_________________________________________________________________\n",
            " Layer (type)                Output Shape              Param #   \n",
            "=================================================================\n",
            " mobilenetv2_1.00_224 (Funct  (None, 7, 7, 1280)       2257984   \n",
            " ional)                                                          \n",
            "                                                                 \n",
            " global_average_pooling2d (G  (None, 1280)             0         \n",
            " lobalAveragePooling2D)                                          \n",
            "                                                                 \n",
            " dropout (Dropout)           (None, 1280)              0         \n",
            "                                                                 \n",
            " dense (Dense)               (None, 128)               163968    \n",
            "                                                                 \n",
            " dense_1 (Dense)             (None, 5)                 645       \n",
            "                                                                 \n",
            "=================================================================\n",
            "Total params: 2,422,597\n",
            "Trainable params: 164,613\n",
            "Non-trainable params: 2,257,984\n",
            "_________________________________________________________________\n"
          ]
        }
      ],
      "source": [
        "mobilenet_model.summary()\n"
      ]
    },
    {
      "cell_type": "code",
      "execution_count": null,
      "metadata": {
        "colab": {
          "base_uri": "https://localhost:8080/"
        },
        "id": "vr2XyWpF4ZbV",
        "outputId": "29f1b6ec-274b-4f1b-f64a-a4bde178a435"
      },
      "outputs": [
        {
          "name": "stdout",
          "output_type": "stream",
          "text": [
            "Epoch 1/10\n",
            "220/220 - 688s - loss: 0.8540 - accuracy: 0.7309 - val_loss: 0.8020 - val_accuracy: 0.7362 - 688s/epoch - 3s/step\n",
            "Epoch 2/10\n",
            "220/220 - 670s - loss: 0.8083 - accuracy: 0.7363 - val_loss: 0.7843 - val_accuracy: 0.7376 - 670s/epoch - 3s/step\n",
            "Epoch 3/10\n",
            "220/220 - 672s - loss: 0.7970 - accuracy: 0.7365 - val_loss: 0.7779 - val_accuracy: 0.7391 - 672s/epoch - 3s/step\n",
            "Epoch 4/10\n",
            "220/220 - 677s - loss: 0.7957 - accuracy: 0.7373 - val_loss: 0.7887 - val_accuracy: 0.7367 - 677s/epoch - 3s/step\n",
            "Epoch 5/10\n",
            "220/220 - 679s - loss: 0.7883 - accuracy: 0.7387 - val_loss: 0.7835 - val_accuracy: 0.7389 - 679s/epoch - 3s/step\n",
            "Epoch 6/10\n",
            "220/220 - 684s - loss: 0.7872 - accuracy: 0.7390 - val_loss: 0.7695 - val_accuracy: 0.7409 - 684s/epoch - 3s/step\n",
            "Epoch 7/10\n",
            "220/220 - 678s - loss: 0.7845 - accuracy: 0.7399 - val_loss: 0.7740 - val_accuracy: 0.7406 - 678s/epoch - 3s/step\n",
            "Epoch 8/10\n",
            "220/220 - 668s - loss: 0.7819 - accuracy: 0.7416 - val_loss: 0.7766 - val_accuracy: 0.7417 - 668s/epoch - 3s/step\n",
            "Epoch 9/10\n",
            "220/220 - 668s - loss: 0.7773 - accuracy: 0.7415 - val_loss: 0.7705 - val_accuracy: 0.7434 - 668s/epoch - 3s/step\n",
            "Epoch 10/10\n",
            "220/220 - 668s - loss: 0.7776 - accuracy: 0.7425 - val_loss: 0.7704 - val_accuracy: 0.7411 - 668s/epoch - 3s/step\n"
          ]
        }
      ],
      "source": [
        "epochs = 10\n",
        "mobilenet_history = mobilenet_model.fit(\n",
        "    x=train_generator, \n",
        "    validation_data=val_generator,\n",
        "    epochs=epochs, \n",
        "    verbose=2, \n",
        "    validation_steps= None,\n",
        "    shuffle= False,\n",
        ")"
      ]
    },
    {
      "attachments": {},
      "cell_type": "markdown",
      "metadata": {
        "id": "cNb4gf_f4lY1"
      },
      "source": [
        "# Plot Accuracy and Loss"
      ]
    },
    {
      "cell_type": "code",
      "execution_count": null,
      "metadata": {
        "id": "w5ue65Aj4oWv"
      },
      "outputs": [],
      "source": [
        "import numpy as np\n",
        "import matplotlib.pyplot as plt\n",
        "\n",
        "\n",
        "def plot_training(history):\n",
        "    acc = history.history['accuracy']\n",
        "    val_acc = history.history['val_accuracy']\n",
        "\n",
        "    loss = history.history['loss']\n",
        "    val_loss = history.history['val_loss']\n",
        "    \n",
        "    index_loss = np.argmin(val_loss)\n",
        "    val_lowest = val_loss[index_loss]\n",
        "    index_acc = np.argmax(val_acc)\n",
        "    acc_highest = val_acc[index_acc]\n",
        "\n",
        "    plt.figure(figsize= (20, 8))\n",
        "    Epochs = [i+1 for i in range(len(acc))]\n",
        "    \n",
        "    loss_label = f'best epoch= {str(index_loss + 1)}'\n",
        "    acc_label = f'best epoch= {str(index_acc + 1)}'\n",
        "\n",
        "    plt.subplot(1, 2, 1)\n",
        "    plt.plot(Epochs, acc, label= 'Training Accuracy')\n",
        "    plt.plot(Epochs, val_acc, label= 'Validation Accuracy')\n",
        "    plt.scatter(index_acc + 1 , acc_highest, s= 150, c= 'blue', label= acc_label)\n",
        "    plt.title('Training and Validation Accuracy')\n",
        "    plt.xlabel('Epochs')\n",
        "    plt.ylabel('Accuracy')\n",
        "    plt.legend()\n",
        "\n",
        "    plt.subplot(1, 2, 2)\n",
        "    plt.plot(Epochs, loss, label= 'Training loss')\n",
        "    plt.plot(Epochs, val_loss, label= 'Validation loss')\n",
        "    plt.scatter(index_loss + 1, val_lowest, s= 150, c= 'blue', label= loss_label) \n",
        "    plt.title('Training and Validation Loss')\n",
        "    plt.xlabel('Epochs')\n",
        "    plt.ylabel('Loss')\n",
        "    plt.legend()\n",
        "\n",
        "    plt.tight_layout\n",
        "    plt.show()"
      ]
    },
    {
      "cell_type": "code",
      "execution_count": null,
      "metadata": {
        "colab": {
          "base_uri": "https://localhost:8080/",
          "height": 513
        },
        "id": "6EJvUheW4pWx",
        "outputId": "a4433a27-dbcb-48ed-ae0c-1875cf2661c4"
      },
      "outputs": [
        {
          "data": {
            "image/png": "[encoded data removed]",
            "text/plain": [
              "<Figure size 2000x800 with 2 Axes>"
            ]
          },
          "metadata": {},
          "output_type": "display_data"
        }
      ],
      "source": [
        "plot_training(mobilenet_history)\n"
      ]
    },
    {
      "attachments": {},
      "cell_type": "markdown",
      "metadata": {
        "id": "o8dNNfMp6GzL"
      },
      "source": [
        "# Test"
      ]
    },
    {
      "cell_type": "code",
      "execution_count": null,
      "metadata": {
        "colab": {
          "base_uri": "https://localhost:8080/"
        },
        "id": "nulViWID6IJv",
        "outputId": "a3e1abed-ee3d-4b35-c085-af73e1ed174f"
      },
      "outputs": [
        {
          "name": "stdout",
          "output_type": "stream",
          "text": [
            "55/55 [==============================] - 160s 3s/step\n",
            "[[7.9873157e-01 7.9917289e-02 1.1031635e-01 6.0091279e-03 5.0257486e-03]\n",
            " [8.7694240e-01 5.4187354e-02 6.7765303e-02 9.8729471e-04 1.1771302e-04]\n",
            " [7.1145034e-01 8.4796339e-02 1.8012212e-01 2.0829894e-02 2.8013433e-03]\n",
            " ...\n",
            " [7.2366023e-01 6.2260248e-02 1.9960625e-01 1.0399957e-02 4.0732836e-03]\n",
            " [6.8285382e-01 7.0993647e-02 2.1886435e-01 1.9611888e-02 7.6762689e-03]\n",
            " [8.2658386e-01 8.8605657e-02 7.6758847e-02 6.5900134e-03 1.4615780e-03]]\n"
          ]
        }
      ],
      "source": [
        "preds = mobilenet_model.predict(val_generator)\n",
        "# preds = model.predict(test_generator)\n",
        "y_pred = [np.argmax(y) for y in preds]\n",
        "# print(y_pred)\n",
        "print(preds)"
      ]
    },
    {
      "cell_type": "code",
      "execution_count": null,
      "metadata": {
        "id": "t74JqGKO7AmW"
      },
      "outputs": [],
      "source": [
        "from sklearn.metrics import confusion_matrix, classification_report\n",
        "import seaborn as sns\n",
        "\n",
        "\n",
        "def make_evaluation(test_gen, y_pred):\n",
        "  classes = [label[:] for label in list(test_gen.class_indices.keys())] \n",
        "  class_count = len(classes)\n",
        "  cm = confusion_matrix(test_gen.classes, y_pred)\n",
        "\n",
        "  plt.figure(figsize=(12, 8))\n",
        "  sns.heatmap(cm, annot=True, vmin=0, fmt='g', cmap='Blues', cbar=False)     \n",
        "  plt.xticks(np.arange(class_count)+.5, classes, rotation=90)\n",
        "  plt.yticks(np.arange(class_count)+.5, classes, rotation=0)\n",
        "  plt.xlabel(\"Predicted\")\n",
        "  plt.ylabel(\"Actual\")\n",
        "  plt.title(\"Confusion Matrix\")\n",
        "  plt.show()\n",
        "  print(\"\\nClassification Report:\\n----------------------\")\n",
        "  print(classification_report(val_generator.classes, y_pred, target_names=classes))\n",
        "\n",
        "make_evaluation(val_generator, y_pred)"
      ]
    },
    {
      "attachments": {},
      "cell_type": "markdown",
      "metadata": {
        "id": "dCL3mqfL16GY"
      },
      "source": [
        "# Save model"
      ]
    },
    {
      "cell_type": "code",
      "execution_count": null,
      "metadata": {
        "id": "xNOJ7ULN4kkD"
      },
      "outputs": [],
      "source": [
        "mobilenet_model.save(\"model_mobilenet_dr.h5\")"
      ]
    },
    {
      "cell_type": "code",
      "execution_count": null,
      "metadata": {
        "id": "AaZJMkrb1_8t"
      },
      "outputs": [],
      "source": [
        "import pickle\n",
        "\n",
        "pickle.dump(mobilenet_model, open('model_mobilenet_dr.pkl', 'wb'))"
      ]
    },
    {
      "cell_type": "code",
      "execution_count": null,
      "metadata": {
        "id": "KClFFiyT2F6b"
      },
      "outputs": [],
      "source": []
    }
  ],
  "metadata": {
    "accelerator": "GPU",
    "colab": {
      "gpuType": "T4",
      "provenance": []
    },
    "kernelspec": {
      "display_name": "Python 3",
      "name": "python3"
    },
    "language_info": {
      "name": "python"
    }
  },
  "nbformat": 4,
  "nbformat_minor": 0
}
