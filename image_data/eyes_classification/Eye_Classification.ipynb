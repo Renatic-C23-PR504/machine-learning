{
  "nbformat": 4,
  "nbformat_minor": 0,
  "metadata": {
    "colab": {
      "provenance": []
    },
    "kernelspec": {
      "name": "python3",
      "display_name": "Python 3"
    },
    "language_info": {
      "name": "python"
    }
  },
  "cells": [
    {
      "cell_type": "code",
      "execution_count": 1,
      "metadata": {
        "colab": {
          "base_uri": "https://localhost:8080/"
        },
        "id": "2CBQIfDHLIsZ",
        "outputId": "69b38f45-deda-4a30-d856-61e94464b5aa"
      },
      "outputs": [
        {
          "output_type": "stream",
          "name": "stdout",
          "text": [
            "Mounted at /content/drive\n"
          ]
        }
      ],
      "source": [
        "from google.colab import drive\n",
        "import os\n",
        "import tensorflow as tf\n",
        "drive.mount('/content/drive')"
      ]
    },
    {
      "cell_type": "code",
      "source": [
        "data_dir = '/content/drive/MyDrive/dataset'\n",
        "\n",
        "training_dir = os.path.join(data_dir, 'training')\n",
        "validation_dir = os.path.join(data_dir, 'validation')\n",
        "testing_dir = os.path.join(data_dir, 'testing')"
      ],
      "metadata": {
        "id": "31_y55YVPYGl"
      },
      "execution_count": 2,
      "outputs": []
    },
    {
      "cell_type": "code",
      "source": [
        "dataset_path = '/content/drive/MyDrive/dataset/training/training_eye'  # Replace with the path to your dataset directory in Google Drive\n",
        "\n",
        "# Get the list of image files in the dataset directory\n",
        "image_files = os.listdir(dataset_path)\n",
        "\n",
        "# Count the number of image files\n",
        "num_images = len(image_files)\n",
        "\n",
        "# Print the number of images\n",
        "print(f\"Number of images: {num_images}\")"
      ],
      "metadata": {
        "colab": {
          "base_uri": "https://localhost:8080/"
        },
        "id": "bqThotu9XfMG",
        "outputId": "7db1d476-40c2-427f-d411-7db822c121ed"
      },
      "execution_count": 3,
      "outputs": [
        {
          "output_type": "stream",
          "name": "stdout",
          "text": [
            "Number of images: 2278\n"
          ]
        }
      ]
    },
    {
      "cell_type": "code",
      "source": [
        "from tensorflow.keras.preprocessing.image import ImageDataGenerator\n",
        "\n",
        "image_size = (150,150)\n",
        "batch_size = 256\n",
        "\n",
        "train_datagen = ImageDataGenerator(\n",
        "    rescale=1./255,\n",
        "    shear_range=0.25,\n",
        "    zoom_range=0.25,\n",
        "    rotation_range = 45,\n",
        "    horizontal_flip=True,\n",
        "    vertical_flip=True\n",
        "    )\n",
        "validation_datagen = ImageDataGenerator(rescale=1./255)\n",
        "test_datagen = ImageDataGenerator(rescale=1./255)\n",
        "\n",
        "train_generator = train_datagen.flow_from_directory(\n",
        "    training_dir,\n",
        "    target_size = image_size,\n",
        "    batch_size = batch_size,\n",
        "    class_mode='binary',\n",
        "    shuffle = True\n",
        "    )\n",
        "\n",
        "validation_generator = validation_datagen.flow_from_directory(\n",
        "    validation_dir,\n",
        "    target_size = image_size,\n",
        "    batch_size = batch_size,\n",
        "    class_mode='binary',\n",
        "    shuffle = False\n",
        "    )\n",
        "\n",
        "test_generator = test_datagen.flow_from_directory(\n",
        "    testing_dir,\n",
        "    target_size = image_size,\n",
        "    batch_size = batch_size,\n",
        "    class_mode='binary',\n",
        "    shuffle = False\n",
        "    )"
      ],
      "metadata": {
        "colab": {
          "base_uri": "https://localhost:8080/"
        },
        "id": "PFp1ivMHRAIW",
        "outputId": "efbd32d1-0b3a-4a3c-edcd-6c77896cc16c"
      },
      "execution_count": 4,
      "outputs": [
        {
          "output_type": "stream",
          "name": "stdout",
          "text": [
            "Found 4556 images belonging to 2 classes.\n",
            "Found 567 images belonging to 2 classes.\n",
            "Found 568 images belonging to 2 classes.\n"
          ]
        }
      ]
    },
    {
      "cell_type": "code",
      "source": [
        "model = tf.keras.Sequential([\n",
        "    tf.keras.layers.Conv2D(16, (3, 3), activation='relu', input_shape=(150, 150, 3)),\n",
        "    tf.keras.layers.MaxPooling2D(2, 2),\n",
        "    tf.keras.layers.Conv2D(32, (3, 3), activation='relu'),\n",
        "    tf.keras.layers.MaxPooling2D(2, 2),\n",
        "    tf.keras.layers.Flatten(),\n",
        "    tf.keras.layers.Dense(64, activation='relu'),\n",
        "    tf.keras.layers.Dense(1, activation='sigmoid')\n",
        "])\n",
        "\n",
        "optimizer = tf.keras.optimizers.Adam(learning_rate=0.001)\n",
        "model.compile(loss='binary_crossentropy',\n",
        "              optimizer= optimizer,\n",
        "              metrics=['accuracy'])"
      ],
      "metadata": {
        "id": "xHuBbrlYYmN-"
      },
      "execution_count": 5,
      "outputs": []
    },
    {
      "cell_type": "code",
      "source": [
        "history = model.fit(\n",
        "    train_generator,\n",
        "    epochs=10,\n",
        "    validation_data=validation_generator,\n",
        ")\n",
        "\n",
        "# Access the accuracy and validation accuracy from the history object\n",
        "accuracy = history.history['accuracy']\n",
        "val_accuracy = history.history['val_accuracy']\n",
        "\n"
      ],
      "metadata": {
        "colab": {
          "base_uri": "https://localhost:8080/"
        },
        "id": "IGZhRwF7aU3n",
        "outputId": "4976a724-6bf5-4202-910c-2d8caf182afb"
      },
      "execution_count": 6,
      "outputs": [
        {
          "output_type": "stream",
          "name": "stdout",
          "text": [
            "Epoch 1/10\n",
            "18/18 [==============================] - 891s 49s/step - loss: 0.4633 - accuracy: 0.8365 - val_loss: 0.0798 - val_accuracy: 0.9771\n",
            "Epoch 2/10\n",
            "18/18 [==============================] - 150s 8s/step - loss: 0.0458 - accuracy: 0.9798 - val_loss: 0.0118 - val_accuracy: 0.9965\n",
            "Epoch 3/10\n",
            "18/18 [==============================] - 144s 8s/step - loss: 0.0145 - accuracy: 0.9945 - val_loss: 0.0024 - val_accuracy: 1.0000\n",
            "Epoch 4/10\n",
            "18/18 [==============================] - 142s 8s/step - loss: 0.0108 - accuracy: 0.9974 - val_loss: 0.0121 - val_accuracy: 0.9965\n",
            "Epoch 5/10\n",
            "18/18 [==============================] - 142s 8s/step - loss: 0.0059 - accuracy: 0.9982 - val_loss: 0.0028 - val_accuracy: 0.9982\n",
            "Epoch 6/10\n",
            "18/18 [==============================] - 149s 8s/step - loss: 0.0045 - accuracy: 0.9989 - val_loss: 0.0012 - val_accuracy: 1.0000\n",
            "Epoch 7/10\n",
            "18/18 [==============================] - 144s 8s/step - loss: 0.0032 - accuracy: 0.9993 - val_loss: 0.0037 - val_accuracy: 0.9982\n",
            "Epoch 8/10\n",
            "18/18 [==============================] - 142s 8s/step - loss: 0.0021 - accuracy: 0.9991 - val_loss: 0.0054 - val_accuracy: 0.9982\n",
            "Epoch 9/10\n",
            "18/18 [==============================] - 142s 8s/step - loss: 0.0029 - accuracy: 0.9991 - val_loss: 0.0052 - val_accuracy: 0.9982\n",
            "Epoch 10/10\n",
            "18/18 [==============================] - 142s 8s/step - loss: 0.0040 - accuracy: 0.9985 - val_loss: 7.1724e-04 - val_accuracy: 1.0000\n"
          ]
        }
      ]
    },
    {
      "cell_type": "code",
      "source": [
        "from matplotlib import pyplot as plt"
      ],
      "metadata": {
        "id": "Oc8qj3u-t008"
      },
      "execution_count": 7,
      "outputs": []
    },
    {
      "cell_type": "code",
      "source": [
        "fig = plt.figure()\n",
        "plt.plot(history.history['accuracy'], color='teal', label='accuracy')\n",
        "plt.plot(history.history['val_accuracy'], color='orange', label='val_accuracy')\n",
        "fig.suptitle('Accuracy', fontsize=20)\n",
        "plt.legend(loc=\"upper left\")\n",
        "plt.show()"
      ],
      "metadata": {
        "colab": {
          "base_uri": "https://localhost:8080/",
          "height": 478
        },
        "id": "TRb4uj0Ht8wp",
        "outputId": "3b7203c2-302f-4244-e3b8-3959f96d0334"
      },
      "execution_count": 8,
      "outputs": [
        {
          "output_type": "display_data",
          "data": {
            "text/plain": [
              "<Figure size 640x480 with 1 Axes>"
            ],
            "image/png": "[encoded data removed]"
          },
          "metadata": {}
        }
      ]
    },
    {
      "cell_type": "code",
      "source": [
        "fig = plt.figure()\n",
        "plt.plot(history.history['loss'], color='teal', label='loss')\n",
        "plt.plot(history.history['val_loss'], color='orange', label='val_loss')\n",
        "fig.suptitle('Loss', fontsize=20)\n",
        "plt.legend(loc=\"upper left\")\n",
        "plt.show()"
      ],
      "metadata": {
        "colab": {
          "base_uri": "https://localhost:8080/",
          "height": 478
        },
        "id": "Np-3opqn86f1",
        "outputId": "44d9084f-1f16-497d-9140-21d38696c5b4"
      },
      "execution_count": 9,
      "outputs": [
        {
          "output_type": "display_data",
          "data": {
            "text/plain": [
              "<Figure size 640x480 with 1 Axes>"
            ],
            "image/png": "[encoded data removed]"
          },
          "metadata": {}
        }
      ]
    },
    {
      "cell_type": "code",
      "source": [
        "from sklearn.metrics import classification_report\n",
        "from sklearn.metrics import confusion_matrix\n",
        "\n",
        "predictions = model.predict(test_generator)\n",
        "predicted_labels = predictions > 0.5 \n",
        "true_labels = test_generator.classes\n",
        "report = classification_report(true_labels, predicted_labels)\n",
        "print(report)\n"
      ],
      "metadata": {
        "colab": {
          "base_uri": "https://localhost:8080/"
        },
        "id": "QbP9I_ZX8_tI",
        "outputId": "a9a7d662-0aa6-4c30-8520-aaf70f3f1c3b"
      },
      "execution_count": 10,
      "outputs": [
        {
          "output_type": "stream",
          "name": "stdout",
          "text": [
            "3/3 [==============================] - 97s 47s/step\n",
            "              precision    recall  f1-score   support\n",
            "\n",
            "           0       1.00      1.00      1.00       284\n",
            "           1       1.00      1.00      1.00       284\n",
            "\n",
            "    accuracy                           1.00       568\n",
            "   macro avg       1.00      1.00      1.00       568\n",
            "weighted avg       1.00      1.00      1.00       568\n",
            "\n"
          ]
        }
      ]
    },
    {
      "cell_type": "code",
      "source": [
        "# Evaluate the model on the test dataset\n",
        "test_loss, test_accuracy = model.evaluate(test_generator)\n",
        "\n",
        "# Print the test loss and accuracy\n",
        "print(\"Test Loss:\", test_loss)\n",
        "print(\"Test Accuracy:\", test_accuracy)\n"
      ],
      "metadata": {
        "colab": {
          "base_uri": "https://localhost:8080/"
        },
        "id": "j_mhYOHk-jN3",
        "outputId": "a3c6afc9-f3bc-446d-be8a-ad3b4a35ee57"
      },
      "execution_count": 11,
      "outputs": [
        {
          "output_type": "stream",
          "name": "stdout",
          "text": [
            "3/3 [==============================] - 5s 1s/step - loss: 0.0022 - accuracy: 0.9982\n",
            "Test Loss: 0.0021962563041597605\n",
            "Test Accuracy: 0.9982394576072693\n"
          ]
        }
      ]
    },
    {
      "cell_type": "code",
      "source": [
        "model.save(\"/content/drive/MyDrive/model_directory/Eyes_Classification_Model.h5\")\n"
      ],
      "metadata": {
        "id": "mwrYY5i1BA0j"
      },
      "execution_count": 12,
      "outputs": []
    }
  ]
}